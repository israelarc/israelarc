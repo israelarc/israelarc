{
  "nbformat": 4,
  "nbformat_minor": 0,
  "metadata": {
    "colab": {
      "provenance": [],
      "authorship_tag": "ABX9TyMY3Ccgj5hTFVLKpuHOIn5C"
    },
    "kernelspec": {
      "name": "python3",
      "display_name": "Python 3"
    },
    "language_info": {
      "name": "python"
    }
  },
  "cells": [
    {
      "cell_type": "code",
      "execution_count": 2,
      "metadata": {
        "id": "BgTPh78QVGMZ"
      },
      "outputs": [],
      "source": [
        "!pip install kagglehub --quiet\n",
        "\n",
        "import kagglehub\n",
        "import pandas as pd\n",
        "import os\n"
      ]
    },
    {
      "cell_type": "code",
      "source": [
        "# Dataset: Superstore Sales Dataset (Rohit Sahoo)\n",
        "# Enlace: https://www.kaggle.com/datasets/rohitsahoo/sales-forecasting\n",
        "\n",
        "# Descargamos el dataset y obtenemos la ruta local\n",
        "dataset_path = kagglehub.dataset_download(\"rohitsahoo/sales-forecasting\")\n",
        "print(\"✅ Dataset descargado en:\", dataset_path)"
      ],
      "metadata": {
        "colab": {
          "base_uri": "https://localhost:8080/"
        },
        "id": "ip0NgCg0VnhO",
        "outputId": "3a9b20b5-0f00-4d8f-9f6c-ac932accbe34"
      },
      "execution_count": 3,
      "outputs": [
        {
          "output_type": "stream",
          "name": "stdout",
          "text": [
            "Downloading from https://www.kaggle.com/api/v1/datasets/download/rohitsahoo/sales-forecasting?dataset_version_number=2...\n"
          ]
        },
        {
          "output_type": "stream",
          "name": "stderr",
          "text": [
            "100%|██████████| 480k/480k [00:00<00:00, 62.6MB/s]"
          ]
        },
        {
          "output_type": "stream",
          "name": "stdout",
          "text": [
            "Extracting files...\n",
            "✅ Dataset descargado en: /root/.cache/kagglehub/datasets/rohitsahoo/sales-forecasting/versions/2\n"
          ]
        },
        {
          "output_type": "stream",
          "name": "stderr",
          "text": [
            "\n"
          ]
        }
      ]
    },
    {
      "cell_type": "code",
      "source": [
        "# Buscamos el archivo principal en la carpeta descargada\n",
        "csv_files = [f for f in os.listdir(dataset_path) if f.endswith(\".csv\")]\n",
        "if len(csv_files) == 0:\n",
        "    raise FileNotFoundError(\"❌ No se encontró ningún archivo CSV en el dataset.\")\n",
        "else:\n",
        "    print(\"Archivos CSV encontrados:\", csv_files)\n",
        "\n",
        "# Seleccionamos el primer archivo CSV (por lo general es 'train.csv')\n",
        "file_path = os.path.join(dataset_path, csv_files[0])\n",
        "print(\"Archivo a cargar:\", file_path)"
      ],
      "metadata": {
        "colab": {
          "base_uri": "https://localhost:8080/"
        },
        "id": "XQ8a6ny1Vu0x",
        "outputId": "8390bf72-4175-4943-8770-c8a4093f46ac"
      },
      "execution_count": 4,
      "outputs": [
        {
          "output_type": "stream",
          "name": "stdout",
          "text": [
            "Archivos CSV encontrados: ['train.csv']\n",
            "Archivo a cargar: /root/.cache/kagglehub/datasets/rohitsahoo/sales-forecasting/versions/2/train.csv\n"
          ]
        }
      ]
    },
    {
      "cell_type": "code",
      "source": [
        "# Cargamos los datos con Pandas\n",
        "df = pd.read_csv(file_path)"
      ],
      "metadata": {
        "id": "s_ndq5mnV36m"
      },
      "execution_count": 5,
      "outputs": []
    },
    {
      "cell_type": "code",
      "source": [
        "# EXPLORACIÓN INICIAL\n",
        "# ==============================================\n",
        "print(\"\\nPrimeras 5 filas del dataset:\")\n",
        "print(df.head())\n",
        "\n",
        "print(\"\\nInformación general del dataset:\")\n",
        "print(df.info())\n",
        "\n",
        "print(\"\\nNúmero de filas y columnas:\", df.shape)\n"
      ],
      "metadata": {
        "colab": {
          "base_uri": "https://localhost:8080/"
        },
        "id": "lloycCQOV6GY",
        "outputId": "b13ff4cb-0a24-48be-f0ad-7a16ed30d52c"
      },
      "execution_count": 6,
      "outputs": [
        {
          "output_type": "stream",
          "name": "stdout",
          "text": [
            "\n",
            "Primeras 5 filas del dataset:\n",
            "   Row ID        Order ID  Order Date   Ship Date       Ship Mode Customer ID  \\\n",
            "0       1  CA-2017-152156  08/11/2017  11/11/2017    Second Class    CG-12520   \n",
            "1       2  CA-2017-152156  08/11/2017  11/11/2017    Second Class    CG-12520   \n",
            "2       3  CA-2017-138688  12/06/2017  16/06/2017    Second Class    DV-13045   \n",
            "3       4  US-2016-108966  11/10/2016  18/10/2016  Standard Class    SO-20335   \n",
            "4       5  US-2016-108966  11/10/2016  18/10/2016  Standard Class    SO-20335   \n",
            "\n",
            "     Customer Name    Segment        Country             City       State  \\\n",
            "0      Claire Gute   Consumer  United States        Henderson    Kentucky   \n",
            "1      Claire Gute   Consumer  United States        Henderson    Kentucky   \n",
            "2  Darrin Van Huff  Corporate  United States      Los Angeles  California   \n",
            "3   Sean O'Donnell   Consumer  United States  Fort Lauderdale     Florida   \n",
            "4   Sean O'Donnell   Consumer  United States  Fort Lauderdale     Florida   \n",
            "\n",
            "   Postal Code Region       Product ID         Category Sub-Category  \\\n",
            "0      42420.0  South  FUR-BO-10001798        Furniture    Bookcases   \n",
            "1      42420.0  South  FUR-CH-10000454        Furniture       Chairs   \n",
            "2      90036.0   West  OFF-LA-10000240  Office Supplies       Labels   \n",
            "3      33311.0  South  FUR-TA-10000577        Furniture       Tables   \n",
            "4      33311.0  South  OFF-ST-10000760  Office Supplies      Storage   \n",
            "\n",
            "                                        Product Name     Sales  \n",
            "0                  Bush Somerset Collection Bookcase  261.9600  \n",
            "1  Hon Deluxe Fabric Upholstered Stacking Chairs,...  731.9400  \n",
            "2  Self-Adhesive Address Labels for Typewriters b...   14.6200  \n",
            "3      Bretford CR4500 Series Slim Rectangular Table  957.5775  \n",
            "4                     Eldon Fold 'N Roll Cart System   22.3680  \n",
            "\n",
            "Información general del dataset:\n",
            "<class 'pandas.core.frame.DataFrame'>\n",
            "RangeIndex: 9800 entries, 0 to 9799\n",
            "Data columns (total 18 columns):\n",
            " #   Column         Non-Null Count  Dtype  \n",
            "---  ------         --------------  -----  \n",
            " 0   Row ID         9800 non-null   int64  \n",
            " 1   Order ID       9800 non-null   object \n",
            " 2   Order Date     9800 non-null   object \n",
            " 3   Ship Date      9800 non-null   object \n",
            " 4   Ship Mode      9800 non-null   object \n",
            " 5   Customer ID    9800 non-null   object \n",
            " 6   Customer Name  9800 non-null   object \n",
            " 7   Segment        9800 non-null   object \n",
            " 8   Country        9800 non-null   object \n",
            " 9   City           9800 non-null   object \n",
            " 10  State          9800 non-null   object \n",
            " 11  Postal Code    9789 non-null   float64\n",
            " 12  Region         9800 non-null   object \n",
            " 13  Product ID     9800 non-null   object \n",
            " 14  Category       9800 non-null   object \n",
            " 15  Sub-Category   9800 non-null   object \n",
            " 16  Product Name   9800 non-null   object \n",
            " 17  Sales          9800 non-null   float64\n",
            "dtypes: float64(2), int64(1), object(15)\n",
            "memory usage: 1.3+ MB\n",
            "None\n",
            "\n",
            "Número de filas y columnas: (9800, 18)\n"
          ]
        }
      ]
    },
    {
      "cell_type": "code",
      "source": [
        "# LIMPIEZA Y PREPARACIÓN DE DATOS\n",
        "# ==============================================\n",
        "\n",
        "# --- Paso 1: Eliminación de duplicados\n",
        "filas_antes = df.shape[0]\n",
        "df = df.drop_duplicates()\n",
        "filas_despues = df.shape[0]\n",
        "print(f\"\\nRegistros duplicados eliminados: {filas_antes - filas_despues}\")\n",
        "\n",
        "# --- Paso 2: Manejo de valores faltantes\n",
        "print(\"\\nValores nulos por columna antes de limpieza:\")\n",
        "print(df.isnull().sum())\n",
        "\n",
        "columnas_clave = [col for col in ['Order ID', 'Order Date', 'Ship Date'] if col in df.columns]\n",
        "df = df.dropna(subset=columnas_clave)\n",
        "\n",
        "df = df.fillna(\"No disponible\")"
      ],
      "metadata": {
        "colab": {
          "base_uri": "https://localhost:8080/"
        },
        "id": "voxd-K1wWBGx",
        "outputId": "dbb40f03-52c6-4022-ca11-6a2ae9ff15ac"
      },
      "execution_count": 7,
      "outputs": [
        {
          "output_type": "stream",
          "name": "stdout",
          "text": [
            "\n",
            "Registros duplicados eliminados: 0\n",
            "\n",
            "Valores nulos por columna antes de limpieza:\n",
            "Row ID            0\n",
            "Order ID          0\n",
            "Order Date        0\n",
            "Ship Date         0\n",
            "Ship Mode         0\n",
            "Customer ID       0\n",
            "Customer Name     0\n",
            "Segment           0\n",
            "Country           0\n",
            "City              0\n",
            "State             0\n",
            "Postal Code      11\n",
            "Region            0\n",
            "Product ID        0\n",
            "Category          0\n",
            "Sub-Category      0\n",
            "Product Name      0\n",
            "Sales             0\n",
            "dtype: int64\n"
          ]
        }
      ]
    },
    {
      "cell_type": "code",
      "source": [
        "# --- Paso 3: Estandarización de categorías\n",
        "for col in df.select_dtypes(include='object').columns:\n",
        "    if col not in ['Order ID','Customer ID','Product ID']:\n",
        "        df[col] = df[col].astype(str).str.title()\n",
        "\n",
        "# --- Paso 4: Normalización de fechas (solo si existen)\n",
        "if 'Order Date' in df.columns:\n",
        "    df['Order Date'] = pd.to_datetime(df['Order Date'], errors='coerce')\n",
        "if 'Ship Date' in df.columns:\n",
        "    df['Ship Date'] = pd.to_datetime(df['Ship Date'], errors='coerce')\n",
        "    df = df.dropna(subset=['Order Date','Ship Date'])"
      ],
      "metadata": {
        "id": "BMVkLJLsWKmn"
      },
      "execution_count": 8,
      "outputs": []
    },
    {
      "cell_type": "code",
      "source": [
        "# --- Paso 5: Creación de columnas derivadas (si Order Date existe)\n",
        "if 'Order Date' in df.columns:\n",
        "    df['Order Year'] = df['Order Date'].dt.year\n",
        "    df['Order Month'] = df['Order Date'].dt.month\n",
        "    df['Order Quarter'] = df['Order Date'].dt.to_period(\"Q\")\n",
        "if 'Order Date' in df.columns and 'Ship Date' in df.columns:\n",
        "    df['Ship Lead Time (Days)'] = (df['Ship Date'] - df['Order Date']).dt.days"
      ],
      "metadata": {
        "id": "7P8EyS_LWLEg"
      },
      "execution_count": 9,
      "outputs": []
    },
    {
      "cell_type": "code",
      "source": [
        "# RESULTADO FINAL\n",
        "# ==============================================\n",
        "print(\"\\nInformación después de limpieza:\")\n",
        "print(df.info())\n",
        "\n",
        "print(\"\\nPrimeras 5 filas después de limpieza y columnas derivadas:\")\n",
        "print(df.head())\n",
        "\n",
        "print(\"\\nNúmero final de filas y columnas:\", df.shape)"
      ],
      "metadata": {
        "colab": {
          "base_uri": "https://localhost:8080/"
        },
        "id": "Kpd7ffsNWP1o",
        "outputId": "c20315ca-8184-48fd-8488-9045cbd78878"
      },
      "execution_count": 10,
      "outputs": [
        {
          "output_type": "stream",
          "name": "stdout",
          "text": [
            "\n",
            "Información después de limpieza:\n",
            "<class 'pandas.core.frame.DataFrame'>\n",
            "Index: 2676 entries, 0 to 9786\n",
            "Data columns (total 22 columns):\n",
            " #   Column                 Non-Null Count  Dtype         \n",
            "---  ------                 --------------  -----         \n",
            " 0   Row ID                 2676 non-null   int64         \n",
            " 1   Order ID               2676 non-null   object        \n",
            " 2   Order Date             2676 non-null   datetime64[ns]\n",
            " 3   Ship Date              2676 non-null   datetime64[ns]\n",
            " 4   Ship Mode              2676 non-null   object        \n",
            " 5   Customer ID            2676 non-null   object        \n",
            " 6   Customer Name          2676 non-null   object        \n",
            " 7   Segment                2676 non-null   object        \n",
            " 8   Country                2676 non-null   object        \n",
            " 9   City                   2676 non-null   object        \n",
            " 10  State                  2676 non-null   object        \n",
            " 11  Postal Code            2676 non-null   object        \n",
            " 12  Region                 2676 non-null   object        \n",
            " 13  Product ID             2676 non-null   object        \n",
            " 14  Category               2676 non-null   object        \n",
            " 15  Sub-Category           2676 non-null   object        \n",
            " 16  Product Name           2676 non-null   object        \n",
            " 17  Sales                  2676 non-null   float64       \n",
            " 18  Order Year             2676 non-null   int32         \n",
            " 19  Order Month            2676 non-null   int32         \n",
            " 20  Order Quarter          2676 non-null   period[Q-DEC] \n",
            " 21  Ship Lead Time (Days)  2676 non-null   int64         \n",
            "dtypes: datetime64[ns](2), float64(1), int32(2), int64(2), object(14), period[Q-DEC](1)\n",
            "memory usage: 459.9+ KB\n",
            "None\n",
            "\n",
            "Primeras 5 filas después de limpieza y columnas derivadas:\n",
            "    Row ID        Order ID Order Date  Ship Date       Ship Mode Customer ID  \\\n",
            "0        1  CA-2017-152156 2017-08-11 2017-11-11    Second Class    CG-12520   \n",
            "1        2  CA-2017-152156 2017-08-11 2017-11-11    Second Class    CG-12520   \n",
            "13      14  CA-2017-161389 2017-05-12 2017-10-12  Standard Class    IM-15070   \n",
            "35      36  CA-2017-117590 2017-08-12 2017-10-12     First Class    GH-14485   \n",
            "36      37  CA-2017-117590 2017-08-12 2017-10-12     First Class    GH-14485   \n",
            "\n",
            "   Customer Name    Segment        Country        City  ...   Region  \\\n",
            "0    Claire Gute   Consumer  United States   Henderson  ...    South   \n",
            "1    Claire Gute   Consumer  United States   Henderson  ...    South   \n",
            "13  Irene Maddox   Consumer  United States     Seattle  ...     West   \n",
            "35     Gene Hale  Corporate  United States  Richardson  ...  Central   \n",
            "36     Gene Hale  Corporate  United States  Richardson  ...  Central   \n",
            "\n",
            "         Product ID         Category Sub-Category  \\\n",
            "0   FUR-BO-10001798        Furniture    Bookcases   \n",
            "1   FUR-CH-10000454        Furniture       Chairs   \n",
            "13  OFF-BI-10003656  Office Supplies      Binders   \n",
            "35  TEC-PH-10004977       Technology       Phones   \n",
            "36  FUR-FU-10003664        Furniture  Furnishings   \n",
            "\n",
            "                                         Product Name     Sales Order Year  \\\n",
            "0                   Bush Somerset Collection Bookcase   261.960       2017   \n",
            "1   Hon Deluxe Fabric Upholstered Stacking Chairs,...   731.940       2017   \n",
            "13        Fellowes Pb200 Plastic Comb Binding Machine   407.976       2017   \n",
            "35                                        Ge 30524Ee4  1097.544       2017   \n",
            "36  Electrix Architect'S Clamp-On Swing Arm Lamp, ...   190.920       2017   \n",
            "\n",
            "    Order Month  Order Quarter  Ship Lead Time (Days)  \n",
            "0             8         2017Q3                     92  \n",
            "1             8         2017Q3                     92  \n",
            "13            5         2017Q2                    153  \n",
            "35            8         2017Q3                     61  \n",
            "36            8         2017Q3                     61  \n",
            "\n",
            "[5 rows x 22 columns]\n",
            "\n",
            "Número final de filas y columnas: (2676, 22)\n"
          ]
        }
      ]
    }
  ]
}